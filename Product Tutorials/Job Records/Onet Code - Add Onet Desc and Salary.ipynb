{
 "cells": [
  {
   "cell_type": "markdown",
   "metadata": {},
   "source": [
    "# How to join Onet code to get salary and title\n",
    "\n",
    "##### Data sources used:\n",
    "+ Linkup Raw Job Records.  We will be using a slice of raw data.\n",
    "+ All data XML file from Bureau of Labor Statistics.  https://www.bls.gov/oes/tables.htm\n",
    "+ Onet 2010 to 2018 Crosswalk.  https://www.onetcenter.org/crosswalks.html"
   ]
  },
  {
   "cell_type": "markdown",
   "metadata": {},
   "source": [
    "##### Warning:  The Bureau of Labor Statistics and only includes salary data for the United States.  Salary estimates that are being joined are estimates based on United States Data."
   ]
  },
  {
   "cell_type": "markdown",
   "metadata": {},
   "source": [
    "##### In order to join these tables together there are 2 approaches that can be done within python:\n",
    "\n",
    "1. The first approach is using the pandas library to join these tables.\n",
    "2. The second apprach uses SQL to join these tables.  I will be using the sqlite3 library to create a SQL structure in memory, but the query can be taken and used in any SQL database"
   ]
  },
  {
   "cell_type": "markdown",
   "metadata": {},
   "source": [
    "##### For this tutorial I am going to use select columns from BLS that are most common for our clients, however feel free to look through to choose the data points most relevant to your use case.  The columns I will join are:\n",
    "- Occ_Code:  This is the join key\n",
    "- Occ_Title:  Human readable onet description\n",
    "- h_mean & a_mean:  Hourly and annual mean income\n",
    "- h_median & h_median:  Hourly and annual hourly income"
   ]
  },
  {
   "cell_type": "code",
   "execution_count": 7,
   "metadata": {},
   "outputs": [
    {
     "name": "stdout",
     "output_type": "stream",
     "text": [
      "Variable   Type        Data/Info\n",
      "--------------------------------\n",
      "a          NoneType    None\n"
     ]
    }
   ],
   "source": [
    "%whos"
   ]
  },
  {
   "cell_type": "code",
   "execution_count": 6,
   "metadata": {},
   "outputs": [
    {
     "name": "stdout",
     "output_type": "stream",
     "text": [
      "Aggregates from Raw Job Records.html\r\n",
      "Aggregates from Raw Job Records.ipynb\r\n",
      "Joining Files to Job Records.html\r\n",
      "Joining Files to Job Records.ipynb\r\n",
      "Loading Daily Files.ipynb\r\n",
      "Onet Code - Add Onet Desc and Salary.html\r\n",
      "Onet Code - Add Onet Desc and Salary.ipynb\r\n",
      "PIT Ticker Join for Larry.ipynb\r\n",
      "Reference Files Querying.html\r\n",
      "Reference Files Querying.ipynb\r\n"
     ]
    }
   ],
   "source": [
    "%ls"
   ]
  },
  {
   "cell_type": "code",
   "execution_count": 1,
   "metadata": {},
   "outputs": [
    {
     "data": {
      "text/plain": [
       "'/Users/iflath/data-analysis-science/QuantTips+Tricks/Tutorials_Finished'"
      ]
     },
     "execution_count": 1,
     "metadata": {},
     "output_type": "execute_result"
    }
   ],
   "source": [
    "%pwd"
   ]
  },
  {
   "cell_type": "code",
   "execution_count": 1,
   "metadata": {},
   "outputs": [],
   "source": [
    "# Import Libaries\n",
    "import pandas as pd\n",
    "import numpy as np\n",
    "import os\n",
    "import sqlite3\n",
    "\n",
    "# Display parameters for dataframes for tutorial display purposes\n",
    "pd.set_option('display.max_rows', 500)\n",
    "pd.set_option('display.max_columns', 500)\n",
    "pd.set_option('display.width', 1000)"
   ]
  },
  {
   "cell_type": "code",
   "execution_count": 2,
   "metadata": {},
   "outputs": [],
   "source": [
    "# Load Linkup Job Records\n",
    "JobRecords = pd.read_csv('../raw-sample/raw-sample-jobs.csv', low_memory = False)\n",
    "\n",
    "# Load BLS Datadata\n",
    "BLS_data = pd.read_excel('../OnetCodes/all_data_M_2018.xlsx')\n",
    "BLS_data = BLS_data[(BLS_data.area_title == 'U.S.') &\n",
    "                    (BLS_data.naics_title == 'Cross-industry')]\n",
    "\n",
    "#Load Crosswalk\n",
    "OnetCrosswalk = pd.read_excel('../OnetCodes/2010_to_2018_SOC_Crosswalk.xls')[['O*NET-SOC 2010 Code','2018 SOC Code']]\n",
    "OnetCrosswalk.columns = ['O*NET-SOC 2010 Code','occ_code']\n",
    "\n",
    "BLS_data = OnetCrosswalk.merge(BLS_data[['occ_code', 'occ_title', 'h_mean', 'a_mean', 'h_median', 'a_median']], \n",
    "                    how = 'left',on = 'occ_code')"
   ]
  },
  {
   "cell_type": "markdown",
   "metadata": {},
   "source": [
    "# Crosswalk Onet Codes in Job Records to 2018 Version"
   ]
  },
  {
   "cell_type": "code",
   "execution_count": 3,
   "metadata": {},
   "outputs": [],
   "source": [
    "JobRecords = JobRecords.merge(OnetCrosswalk, \n",
    "                              how = 'left',\n",
    "                              left_on = 'onet_occupation_code', \n",
    "                              right_on = 'O*NET-SOC 2010 Code')"
   ]
  },
  {
   "cell_type": "markdown",
   "metadata": {},
   "source": [
    "# Approach 1\n",
    "\n",
    "##### USe the Pandas Python library to join tables together"
   ]
  },
  {
   "cell_type": "code",
   "execution_count": 4,
   "metadata": {},
   "outputs": [
    {
     "data": {
      "text/html": [
       "<div>\n",
       "<style scoped>\n",
       "    .dataframe tbody tr th:only-of-type {\n",
       "        vertical-align: middle;\n",
       "    }\n",
       "\n",
       "    .dataframe tbody tr th {\n",
       "        vertical-align: top;\n",
       "    }\n",
       "\n",
       "    .dataframe thead th {\n",
       "        text-align: right;\n",
       "    }\n",
       "</style>\n",
       "<table border=\"1\" class=\"dataframe\">\n",
       "  <thead>\n",
       "    <tr style=\"text-align: right;\">\n",
       "      <th></th>\n",
       "      <th>hash</th>\n",
       "      <th>title</th>\n",
       "      <th>company_id</th>\n",
       "      <th>company_name</th>\n",
       "      <th>city</th>\n",
       "      <th>state</th>\n",
       "      <th>zip</th>\n",
       "      <th>country</th>\n",
       "      <th>created</th>\n",
       "      <th>last_checked</th>\n",
       "      <th>last_updated</th>\n",
       "      <th>delete_date</th>\n",
       "      <th>unmapped_location</th>\n",
       "      <th>onet_occupation_code</th>\n",
       "      <th>url</th>\n",
       "      <th>O*NET-SOC 2010 Code_x</th>\n",
       "      <th>occ_code</th>\n",
       "      <th>O*NET-SOC 2010 Code_y</th>\n",
       "      <th>occ_title</th>\n",
       "      <th>h_mean</th>\n",
       "      <th>a_mean</th>\n",
       "      <th>h_median</th>\n",
       "      <th>a_median</th>\n",
       "    </tr>\n",
       "  </thead>\n",
       "  <tbody>\n",
       "    <tr>\n",
       "      <th>0</th>\n",
       "      <td>0f659e59f8967f986ab53b898e543095</td>\n",
       "      <td>Financial Solutions Advisor - Bilingual Mandar...</td>\n",
       "      <td>381</td>\n",
       "      <td>Bank of America Corporation</td>\n",
       "      <td>El Cerrito</td>\n",
       "      <td>CA</td>\n",
       "      <td>94530</td>\n",
       "      <td>USA</td>\n",
       "      <td>2015-04-16T12:25:01+00:00</td>\n",
       "      <td>2015-04-23T08:16:47+00:00</td>\n",
       "      <td>NaN</td>\n",
       "      <td>2015-04-25T13:20:05+00:00</td>\n",
       "      <td>False</td>\n",
       "      <td>41-3031.02</td>\n",
       "      <td>https://bacfhrs.taleo.net/careersection/2/jobd...</td>\n",
       "      <td>41-3031.02</td>\n",
       "      <td>41-3031</td>\n",
       "      <td>41-3031.00</td>\n",
       "      <td>Securities, Commodities, and Financial Service...</td>\n",
       "      <td>47.49</td>\n",
       "      <td>98770</td>\n",
       "      <td>30.83</td>\n",
       "      <td>64120</td>\n",
       "    </tr>\n",
       "    <tr>\n",
       "      <th>1</th>\n",
       "      <td>0f659e59f8967f986ab53b898e543095</td>\n",
       "      <td>Financial Solutions Advisor - Bilingual Mandar...</td>\n",
       "      <td>381</td>\n",
       "      <td>Bank of America Corporation</td>\n",
       "      <td>El Cerrito</td>\n",
       "      <td>CA</td>\n",
       "      <td>94530</td>\n",
       "      <td>USA</td>\n",
       "      <td>2015-04-16T12:25:01+00:00</td>\n",
       "      <td>2015-04-23T08:16:47+00:00</td>\n",
       "      <td>NaN</td>\n",
       "      <td>2015-04-25T13:20:05+00:00</td>\n",
       "      <td>False</td>\n",
       "      <td>41-3031.02</td>\n",
       "      <td>https://bacfhrs.taleo.net/careersection/2/jobd...</td>\n",
       "      <td>41-3031.02</td>\n",
       "      <td>41-3031</td>\n",
       "      <td>41-3031.01</td>\n",
       "      <td>Securities, Commodities, and Financial Service...</td>\n",
       "      <td>47.49</td>\n",
       "      <td>98770</td>\n",
       "      <td>30.83</td>\n",
       "      <td>64120</td>\n",
       "    </tr>\n",
       "    <tr>\n",
       "      <th>2</th>\n",
       "      <td>0f659e59f8967f986ab53b898e543095</td>\n",
       "      <td>Financial Solutions Advisor - Bilingual Mandar...</td>\n",
       "      <td>381</td>\n",
       "      <td>Bank of America Corporation</td>\n",
       "      <td>El Cerrito</td>\n",
       "      <td>CA</td>\n",
       "      <td>94530</td>\n",
       "      <td>USA</td>\n",
       "      <td>2015-04-16T12:25:01+00:00</td>\n",
       "      <td>2015-04-23T08:16:47+00:00</td>\n",
       "      <td>NaN</td>\n",
       "      <td>2015-04-25T13:20:05+00:00</td>\n",
       "      <td>False</td>\n",
       "      <td>41-3031.02</td>\n",
       "      <td>https://bacfhrs.taleo.net/careersection/2/jobd...</td>\n",
       "      <td>41-3031.02</td>\n",
       "      <td>41-3031</td>\n",
       "      <td>41-3031.02</td>\n",
       "      <td>Securities, Commodities, and Financial Service...</td>\n",
       "      <td>47.49</td>\n",
       "      <td>98770</td>\n",
       "      <td>30.83</td>\n",
       "      <td>64120</td>\n",
       "    </tr>\n",
       "  </tbody>\n",
       "</table>\n",
       "</div>"
      ],
      "text/plain": [
       "                               hash                                              title  company_id                 company_name        city state    zip country                    created               last_checked last_updated                delete_date unmapped_location onet_occupation_code                                                url O*NET-SOC 2010 Code_x occ_code O*NET-SOC 2010 Code_y                                          occ_title h_mean a_mean h_median a_median\n",
       "0  0f659e59f8967f986ab53b898e543095  Financial Solutions Advisor - Bilingual Mandar...         381  Bank of America Corporation  El Cerrito    CA  94530     USA  2015-04-16T12:25:01+00:00  2015-04-23T08:16:47+00:00          NaN  2015-04-25T13:20:05+00:00             False           41-3031.02  https://bacfhrs.taleo.net/careersection/2/jobd...            41-3031.02  41-3031            41-3031.00  Securities, Commodities, and Financial Service...  47.49  98770    30.83    64120\n",
       "1  0f659e59f8967f986ab53b898e543095  Financial Solutions Advisor - Bilingual Mandar...         381  Bank of America Corporation  El Cerrito    CA  94530     USA  2015-04-16T12:25:01+00:00  2015-04-23T08:16:47+00:00          NaN  2015-04-25T13:20:05+00:00             False           41-3031.02  https://bacfhrs.taleo.net/careersection/2/jobd...            41-3031.02  41-3031            41-3031.01  Securities, Commodities, and Financial Service...  47.49  98770    30.83    64120\n",
       "2  0f659e59f8967f986ab53b898e543095  Financial Solutions Advisor - Bilingual Mandar...         381  Bank of America Corporation  El Cerrito    CA  94530     USA  2015-04-16T12:25:01+00:00  2015-04-23T08:16:47+00:00          NaN  2015-04-25T13:20:05+00:00             False           41-3031.02  https://bacfhrs.taleo.net/careersection/2/jobd...            41-3031.02  41-3031            41-3031.02  Securities, Commodities, and Financial Service...  47.49  98770    30.83    64120"
      ]
     },
     "execution_count": 4,
     "metadata": {},
     "output_type": "execute_result"
    }
   ],
   "source": [
    "New_JobRecords = JobRecords.merge(\n",
    "    BLS_data,\n",
    "    on = 'occ_code',\n",
    "    how = 'left')\n",
    "New_JobRecords.head(3)"
   ]
  },
  {
   "cell_type": "markdown",
   "metadata": {},
   "source": [
    "# Approach 2\n",
    "\n",
    "##### Use SQL query to join these tables.  I will be using the sqlite3 library to create a SQL structure in memory, but the query can be taken and used in any SQL database"
   ]
  },
  {
   "cell_type": "code",
   "execution_count": 5,
   "metadata": {},
   "outputs": [
    {
     "name": "stderr",
     "output_type": "stream",
     "text": [
      "/Users/iflath/anaconda3/lib/python3.7/site-packages/pandas/core/generic.py:2531: UserWarning: The spaces in these column names will not be changed. In pandas versions < 0.14, spaces were converted to underscores.\n",
      "  dtype=dtype, method=method)\n"
     ]
    },
    {
     "data": {
      "text/html": [
       "<div>\n",
       "<style scoped>\n",
       "    .dataframe tbody tr th:only-of-type {\n",
       "        vertical-align: middle;\n",
       "    }\n",
       "\n",
       "    .dataframe tbody tr th {\n",
       "        vertical-align: top;\n",
       "    }\n",
       "\n",
       "    .dataframe thead th {\n",
       "        text-align: right;\n",
       "    }\n",
       "</style>\n",
       "<table border=\"1\" class=\"dataframe\">\n",
       "  <thead>\n",
       "    <tr style=\"text-align: right;\">\n",
       "      <th></th>\n",
       "      <th>hash</th>\n",
       "      <th>title</th>\n",
       "      <th>company_id</th>\n",
       "      <th>company_name</th>\n",
       "      <th>city</th>\n",
       "      <th>state</th>\n",
       "      <th>zip</th>\n",
       "      <th>country</th>\n",
       "      <th>created</th>\n",
       "      <th>last_checked</th>\n",
       "      <th>last_updated</th>\n",
       "      <th>delete_date</th>\n",
       "      <th>unmapped_location</th>\n",
       "      <th>onet_occupation_code</th>\n",
       "      <th>url</th>\n",
       "      <th>O*NET-SOC 2010 Code</th>\n",
       "      <th>occ_code</th>\n",
       "      <th>O*NET-SOC 2010 Code</th>\n",
       "      <th>occ_code</th>\n",
       "      <th>occ_title</th>\n",
       "      <th>h_mean</th>\n",
       "      <th>a_mean</th>\n",
       "      <th>h_median</th>\n",
       "      <th>a_median</th>\n",
       "    </tr>\n",
       "  </thead>\n",
       "  <tbody>\n",
       "    <tr>\n",
       "      <th>0</th>\n",
       "      <td>0f659e59f8967f986ab53b898e543095</td>\n",
       "      <td>Financial Solutions Advisor - Bilingual Mandar...</td>\n",
       "      <td>381</td>\n",
       "      <td>Bank of America Corporation</td>\n",
       "      <td>El Cerrito</td>\n",
       "      <td>CA</td>\n",
       "      <td>94530</td>\n",
       "      <td>USA</td>\n",
       "      <td>2015-04-16T12:25:01+00:00</td>\n",
       "      <td>2015-04-23T08:16:47+00:00</td>\n",
       "      <td>None</td>\n",
       "      <td>2015-04-25T13:20:05+00:00</td>\n",
       "      <td>0.0</td>\n",
       "      <td>41-3031.02</td>\n",
       "      <td>https://bacfhrs.taleo.net/careersection/2/jobd...</td>\n",
       "      <td>41-3031.02</td>\n",
       "      <td>41-3031</td>\n",
       "      <td>41-3031.00</td>\n",
       "      <td>41-3031</td>\n",
       "      <td>Securities, Commodities, and Financial Service...</td>\n",
       "      <td>47.49</td>\n",
       "      <td>98770</td>\n",
       "      <td>30.83</td>\n",
       "      <td>64120</td>\n",
       "    </tr>\n",
       "    <tr>\n",
       "      <th>1</th>\n",
       "      <td>0f659e59f8967f986ab53b898e543095</td>\n",
       "      <td>Financial Solutions Advisor - Bilingual Mandar...</td>\n",
       "      <td>381</td>\n",
       "      <td>Bank of America Corporation</td>\n",
       "      <td>El Cerrito</td>\n",
       "      <td>CA</td>\n",
       "      <td>94530</td>\n",
       "      <td>USA</td>\n",
       "      <td>2015-04-16T12:25:01+00:00</td>\n",
       "      <td>2015-04-23T08:16:47+00:00</td>\n",
       "      <td>None</td>\n",
       "      <td>2015-04-25T13:20:05+00:00</td>\n",
       "      <td>0.0</td>\n",
       "      <td>41-3031.02</td>\n",
       "      <td>https://bacfhrs.taleo.net/careersection/2/jobd...</td>\n",
       "      <td>41-3031.02</td>\n",
       "      <td>41-3031</td>\n",
       "      <td>41-3031.01</td>\n",
       "      <td>41-3031</td>\n",
       "      <td>Securities, Commodities, and Financial Service...</td>\n",
       "      <td>47.49</td>\n",
       "      <td>98770</td>\n",
       "      <td>30.83</td>\n",
       "      <td>64120</td>\n",
       "    </tr>\n",
       "    <tr>\n",
       "      <th>2</th>\n",
       "      <td>0f659e59f8967f986ab53b898e543095</td>\n",
       "      <td>Financial Solutions Advisor - Bilingual Mandar...</td>\n",
       "      <td>381</td>\n",
       "      <td>Bank of America Corporation</td>\n",
       "      <td>El Cerrito</td>\n",
       "      <td>CA</td>\n",
       "      <td>94530</td>\n",
       "      <td>USA</td>\n",
       "      <td>2015-04-16T12:25:01+00:00</td>\n",
       "      <td>2015-04-23T08:16:47+00:00</td>\n",
       "      <td>None</td>\n",
       "      <td>2015-04-25T13:20:05+00:00</td>\n",
       "      <td>0.0</td>\n",
       "      <td>41-3031.02</td>\n",
       "      <td>https://bacfhrs.taleo.net/careersection/2/jobd...</td>\n",
       "      <td>41-3031.02</td>\n",
       "      <td>41-3031</td>\n",
       "      <td>41-3031.02</td>\n",
       "      <td>41-3031</td>\n",
       "      <td>Securities, Commodities, and Financial Service...</td>\n",
       "      <td>47.49</td>\n",
       "      <td>98770</td>\n",
       "      <td>30.83</td>\n",
       "      <td>64120</td>\n",
       "    </tr>\n",
       "  </tbody>\n",
       "</table>\n",
       "</div>"
      ],
      "text/plain": [
       "                               hash                                              title  company_id                 company_name        city state    zip country                    created               last_checked last_updated                delete_date  unmapped_location onet_occupation_code                                                url O*NET-SOC 2010 Code occ_code O*NET-SOC 2010 Code occ_code                                          occ_title h_mean a_mean h_median a_median\n",
       "0  0f659e59f8967f986ab53b898e543095  Financial Solutions Advisor - Bilingual Mandar...         381  Bank of America Corporation  El Cerrito    CA  94530     USA  2015-04-16T12:25:01+00:00  2015-04-23T08:16:47+00:00         None  2015-04-25T13:20:05+00:00                0.0           41-3031.02  https://bacfhrs.taleo.net/careersection/2/jobd...          41-3031.02  41-3031          41-3031.00  41-3031  Securities, Commodities, and Financial Service...  47.49  98770    30.83    64120\n",
       "1  0f659e59f8967f986ab53b898e543095  Financial Solutions Advisor - Bilingual Mandar...         381  Bank of America Corporation  El Cerrito    CA  94530     USA  2015-04-16T12:25:01+00:00  2015-04-23T08:16:47+00:00         None  2015-04-25T13:20:05+00:00                0.0           41-3031.02  https://bacfhrs.taleo.net/careersection/2/jobd...          41-3031.02  41-3031          41-3031.01  41-3031  Securities, Commodities, and Financial Service...  47.49  98770    30.83    64120\n",
       "2  0f659e59f8967f986ab53b898e543095  Financial Solutions Advisor - Bilingual Mandar...         381  Bank of America Corporation  El Cerrito    CA  94530     USA  2015-04-16T12:25:01+00:00  2015-04-23T08:16:47+00:00         None  2015-04-25T13:20:05+00:00                0.0           41-3031.02  https://bacfhrs.taleo.net/careersection/2/jobd...          41-3031.02  41-3031          41-3031.02  41-3031  Securities, Commodities, and Financial Service...  47.49  98770    30.83    64120"
      ]
     },
     "execution_count": 5,
     "metadata": {},
     "output_type": "execute_result"
    }
   ],
   "source": [
    "#Make the db in memory\n",
    "conn = sqlite3.connect(':memory:')\n",
    "#write the tables\n",
    "JobRecords.to_sql('JobRecords', conn, index=False)\n",
    "BLS_data.to_sql('BLS_data', conn, index=False)\n",
    "\n",
    "qry = '''\n",
    "    SELECT *\n",
    "    FROM JobRecords\n",
    "    LEFT JOIN BLS_data\n",
    "    ON JobRecords.occ_code = BLS_data.occ_code;\n",
    "    '''\n",
    "\n",
    "New_JobRecords = pd.read_sql_query(qry, conn)\n",
    "New_JobRecords.head(3)"
   ]
  }
 ],
 "metadata": {
  "kernelspec": {
   "display_name": "Python 3",
   "language": "python",
   "name": "python3"
  },
  "language_info": {
   "codemirror_mode": {
    "name": "ipython",
    "version": 3
   },
   "file_extension": ".py",
   "mimetype": "text/x-python",
   "name": "python",
   "nbconvert_exporter": "python",
   "pygments_lexer": "ipython3",
   "version": "3.7.3"
  }
 },
 "nbformat": 4,
 "nbformat_minor": 2
}
