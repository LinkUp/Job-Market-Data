{
 "cells": [
  {
   "cell_type": "markdown",
   "metadata": {},
   "source": [
    "# 2.1 LinkUp Product Release Notes\n",
    "\n",
    "##### This 2.1 release is focused on convenience of data ingestion and mapping."
   ]
  },
  {
   "cell_type": "markdown",
   "metadata": {},
   "source": [
    "# Reference Material and Files\n",
    "\n",
    "##### General\n",
    "+ All reference files will be filtered so that only companies with at least 1 job record will be included in a file.\n",
    "+ Fixed a bug where some companies that had job records were not being included in the reference files.\n",
    "\n",
    "##### NEW FILE:  fs_company_reference_daily\n",
    "+ Description:  We have concorded our companies to FactSet Entity ID.  We then climb the heirarchy to get relevant identifiers and supplemental reference material to be used for mapping purposes.\n",
    "+ Columns\n",
    "    - company_id\n",
    "    - factset_entity_id\n",
    "    - start_date\n",
    "    - end_date\n",
    "    - stock_ticker\n",
    "    - stock_exchange_country\n",
    "    - stock_exchange_name\n",
    "    - isin\n",
    "    - cusip\n",
    "    - sedol\n",
    "    - primary_flag\n",
    "+ Stocks include Shares and ADR's\n",
    "+ OTC stocks are included with a stock exchange of OTC\n",
    "\n",
    "##### PIT Company Reference File\n",
    "+ Previously all company reference dates started in February of 2016.  Rows will be added so no manipulation to the dates needs to be done to do a standard DATE BETWEEN join by backfilling values. "
   ]
  },
  {
   "cell_type": "markdown",
   "metadata": {},
   "source": [
    "# Quant/Analytics/Aggregated Data Files\n",
    "\n",
    "### <span style=\"color:red\">Quant Files are being deprecated</span> \n",
    "\n",
    "##### NEW FILE: core_company_analytics\n",
    "+ Decription:  This file replaces the 4 \"Quant\" files previously.  It contains all the data of those 4 file, but it has been combined into 1 for convenience.\n",
    "+ Columns\n",
    "    - day\n",
    "    - company_id\n",
    "    - company_name\n",
    "    - created_job_count\n",
    "    - deleted_job_count\n",
    "    - active_job_count\t\n",
    "    - active_duration\n",
    "+ Any row with no data will not be written.  For example, if a company has no active, created, or deleted jobs the row will not be written.  Previously all dates in the range were written for each company ID and filled in with 0’s.\n",
    "+ Each file will include data from 2007 - Present.  Previous \"Quant\" file data started in 2012.\n",
    "\n",
    "##### NEW FILE: core_ticker_analytics\n",
    "+ Decription:  This is a new file that will be similar to core_company_analytics, but grouped by Ticker instead of comapany_id.\n",
    "+ Columns\n",
    "    - day\n",
    "    - stock_ticker\n",
    "    - created_job_count\n",
    "    - deleted_job_count\n",
    "    - active_job_count\t\n",
    "    - active_duration\n",
    "+ Any row with no data will not be written.  For example, if a company has no active, created, or deleted jobs on a specific day the row will not be written.  Previously all dates in the range were written for each company ID and filled in with 0’s.\n",
    "+ Each file will include data from 2007 - Present."
   ]
  },
  {
   "cell_type": "markdown",
   "metadata": {},
   "source": [
    "# Market Reports Builder\n",
    "+ Users will be able to build custom report grouped by Ticker in the Market Reports platform\n",
    "+ Users will be able to create adhoc reports with multiple Metrics (ie Jobs Created, Jobs Deleted, and Unique Active Jobs)\n",
    "+ Users will be able to create reports with history starting in 2007.  Previously 2012 was the earliest data in Market Reports Builder.\n"
   ]
  }
 ],
 "metadata": {
  "kernelspec": {
   "display_name": "Python 3",
   "language": "python",
   "name": "python3"
  },
  "language_info": {
   "codemirror_mode": {
    "name": "ipython",
    "version": 3
   },
   "file_extension": ".py",
   "mimetype": "text/x-python",
   "name": "python",
   "nbconvert_exporter": "python",
   "pygments_lexer": "ipython3",
   "version": "3.7.4"
  }
 },
 "nbformat": 4,
 "nbformat_minor": 2
}
