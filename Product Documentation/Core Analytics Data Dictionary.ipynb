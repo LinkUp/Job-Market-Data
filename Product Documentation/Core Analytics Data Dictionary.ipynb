{
 "cells": [
  {
   "cell_type": "markdown",
   "metadata": {},
   "source": [
    "# Analytics Files Data Dictionary"
   ]
  },
  {
   "cell_type": "markdown",
   "metadata": {},
   "source": [
    "This document is referring to 2 files:\n",
    "   - core_company_analytics\n",
    "   - core_ticker_analytics"
   ]
  },
  {
   "cell_type": "markdown",
   "metadata": {},
   "source": [
    "### Identification Fields/Keys\n",
    "\n",
    "company_id:  The unique identifier for each company.\n",
    "-\tData Type:  text/varchar\n",
    "\n",
    "company_name:  Readable name of the company.\n",
    "-\tData Type: text/varchar\n",
    "\n",
    "stock_ticker:  This is the primary stock ticker for that row.  Several company_ids may roll up to a single ticker.  Format is stock_ticker | stock_exchange | stock_exchange_country.\n",
    "-\tData Type: text/varchar\n",
    "\n",
    "day:  Date that the row applies to.\n",
    "-\tData Type:  Date\n"
   ]
  },
  {
   "cell_type": "markdown",
   "metadata": {},
   "source": [
    "### Aggregate Metrics\n",
    "\n",
    "active_duration\n",
    "-\tData Type:  Decimal/float\n",
    "-\tactive_duration:  The mean of the duration (today – job creation date) in days for all jobs that are active on this day.  For this calculation the max duration is 180 days.\n",
    "\n",
    "created_job_count\n",
    "-\tData Type:  Whole Number\n",
    "-\tcreated_job_count:  The number of jobs that were created on that day.  This is measured by the number of unique job URLs on a career site that our scrape found.\n",
    "\n",
    "deleted_job_count\n",
    "-\tDate Type:  Whole Number\n",
    "-\tdeleted_job_count:  The number of jobs that were created on that day.  This is measured by the number of unique job URLs that are no longer on a career site that were on the career site on the previous scrape on that day.\n",
    "\n",
    "unique_active_job_count\n",
    "-\tData Type:  Whole Number\n",
    "-\tunique_active_job_count:  The number of total jobs that are active on that day.  A job is active on the day that it is created through the day before it is deleted.  "
   ]
  }
 ],
 "metadata": {
  "kernelspec": {
   "display_name": "Python 3",
   "language": "python",
   "name": "python3"
  },
  "language_info": {
   "codemirror_mode": {
    "name": "ipython",
    "version": 3
   },
   "file_extension": ".py",
   "mimetype": "text/x-python",
   "name": "python",
   "nbconvert_exporter": "python",
   "pygments_lexer": "ipython3",
   "version": "3.7.5"
  }
 },
 "nbformat": 4,
 "nbformat_minor": 2
}
